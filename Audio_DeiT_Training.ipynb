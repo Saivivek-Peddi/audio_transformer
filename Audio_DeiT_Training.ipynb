{
 "cells": [
  {
   "cell_type": "code",
   "execution_count": 1,
   "id": "a9031b9e",
   "metadata": {},
   "outputs": [
    {
     "data": {
      "application/vnd.jupyter.widget-view+json": {
       "model_id": "47ecaf59b46e4a1ea86d28692a603ddc",
       "version_major": 2,
       "version_minor": 0
      },
      "text/plain": [
       "Resolving data files:   0%|          | 0/8733 [00:00<?, ?it/s]"
      ]
     },
     "metadata": {},
     "output_type": "display_data"
    },
    {
     "name": "stderr",
     "output_type": "stream",
     "text": [
      "Using custom data configuration default-056bb73702904399\n",
      "Reusing dataset image_folder (/home/ubuntu/.cache/huggingface/datasets/image_folder/default-056bb73702904399/0.0.0/48efdc62d40223daee675ca093d163bcb6cb0b7d7f93eb25aebf5edca72dc597)\n"
     ]
    },
    {
     "name": "stdout",
     "output_type": "stream",
     "text": [
      "5500 2620 612\n"
     ]
    }
   ],
   "source": [
    "from datasets import load_dataset\n",
    "\n",
    "train_ds = load_dataset(\"imagefolder\", data_dir=\"audio_transformer/data/train\", split=\"train\")\n",
    "\n",
    "\n",
    "# split up training into training + validation\n",
    "splits = train_ds.train_test_split(test_size=0.3)\n",
    "train_val_ds = splits['train']\n",
    "test_ds = splits['test']\n",
    "\n",
    "splits = train_val_ds.train_test_split(test_size=0.1)\n",
    "train_ds = splits['train']\n",
    "val_ds = splits['test']\n",
    "\n",
    "\n",
    "print(len(train_ds),len(test_ds),len(val_ds))"
   ]
  },
  {
   "cell_type": "code",
   "execution_count": 2,
   "id": "ce264938",
   "metadata": {},
   "outputs": [
    {
     "data": {
      "text/plain": [
       "Dataset({\n",
       "    features: ['image', 'classID', 'class'],\n",
       "    num_rows: 5500\n",
       "})"
      ]
     },
     "execution_count": 2,
     "metadata": {},
     "output_type": "execute_result"
    }
   ],
   "source": [
    "train_ds"
   ]
  },
  {
   "cell_type": "code",
   "execution_count": 3,
   "id": "77cced10",
   "metadata": {},
   "outputs": [
    {
     "data": {
      "text/plain": [
       "{0: 'air_conditioner',\n",
       " 1: 'car_horn',\n",
       " 2: 'children_playing',\n",
       " 3: 'dog_bark',\n",
       " 4: 'drilling',\n",
       " 5: 'engine_idling',\n",
       " 6: 'gun_shot',\n",
       " 7: 'jackhammer',\n",
       " 8: 'siren',\n",
       " 9: 'street_music'}"
      ]
     },
     "execution_count": 3,
     "metadata": {},
     "output_type": "execute_result"
    }
   ],
   "source": [
    "import json\n",
    "\n",
    "with open('audio_transformer/data/label2id.json') as f:\n",
    "    label2id = json.load(f)\n",
    "\n",
    "with open('audio_transformer/data/id2label.json') as f:\n",
    "    id2label = json.load(f)\n",
    "\n",
    "id2label = {int(key):value for key,value in id2label.items()}\n",
    "id2label"
   ]
  },
  {
   "cell_type": "code",
   "execution_count": 17,
   "id": "ccd870a8",
   "metadata": {},
   "outputs": [
    {
     "name": "stderr",
     "output_type": "stream",
     "text": [
      "https://huggingface.co/facebook/deit-base-distilled-patch16-224/resolve/main/preprocessor_config.json not found in cache or force_download set to True, downloading to /home/ubuntu/.cache/huggingface/transformers/tmpytstgn21\n"
     ]
    },
    {
     "data": {
      "application/vnd.jupyter.widget-view+json": {
       "model_id": "28e60e1c2c7742f08aadbafa2d6294ed",
       "version_major": 2,
       "version_minor": 0
      },
      "text/plain": [
       "Downloading:   0%|          | 0.00/287 [00:00<?, ?B/s]"
      ]
     },
     "metadata": {},
     "output_type": "display_data"
    },
    {
     "name": "stderr",
     "output_type": "stream",
     "text": [
      "storing https://huggingface.co/facebook/deit-base-distilled-patch16-224/resolve/main/preprocessor_config.json in cache at /home/ubuntu/.cache/huggingface/transformers/a3c9a583827005951a2f3c81e5d6f3bda9f52700892e2acb36110a8b5a26ef1b.29240c085a2cf1c33c4279bd14ec75a73811c11a5873eab1f004bde6fe6309f7\n",
      "creating metadata file for /home/ubuntu/.cache/huggingface/transformers/a3c9a583827005951a2f3c81e5d6f3bda9f52700892e2acb36110a8b5a26ef1b.29240c085a2cf1c33c4279bd14ec75a73811c11a5873eab1f004bde6fe6309f7\n",
      "loading feature extractor configuration file https://huggingface.co/facebook/deit-base-distilled-patch16-224/resolve/main/preprocessor_config.json from cache at /home/ubuntu/.cache/huggingface/transformers/a3c9a583827005951a2f3c81e5d6f3bda9f52700892e2acb36110a8b5a26ef1b.29240c085a2cf1c33c4279bd14ec75a73811c11a5873eab1f004bde6fe6309f7\n",
      "Feature extractor DeiTFeatureExtractor {\n",
      "  \"crop_size\": 224,\n",
      "  \"do_center_crop\": true,\n",
      "  \"do_normalize\": true,\n",
      "  \"do_resize\": true,\n",
      "  \"feature_extractor_type\": \"DeiTFeatureExtractor\",\n",
      "  \"image_mean\": [\n",
      "    0.485,\n",
      "    0.456,\n",
      "    0.406\n",
      "  ],\n",
      "  \"image_std\": [\n",
      "    0.229,\n",
      "    0.224,\n",
      "    0.225\n",
      "  ],\n",
      "  \"resample\": 3,\n",
      "  \"size\": 256\n",
      "}\n",
      "\n"
     ]
    }
   ],
   "source": [
    "from transformers import DeiTFeatureExtractor\n",
    "\n",
    "feature_extractor = DeiTFeatureExtractor.from_pretrained(\"facebook/deit-base-distilled-patch16-224\")\n",
    "#  model = SwinForImageClassification.from_pretrained(\"microsoft/swin-tiny-patch4-window7-224\")\n"
   ]
  },
  {
   "cell_type": "code",
   "execution_count": 5,
   "id": "f871b926",
   "metadata": {},
   "outputs": [],
   "source": [
    "from torchvision.transforms import (CenterCrop, \n",
    "                                    Compose, \n",
    "                                    Normalize, \n",
    "                                    RandomHorizontalFlip,\n",
    "                                    RandomResizedCrop, \n",
    "                                    Resize, \n",
    "                                    ToTensor)\n",
    "\n",
    "normalize = Normalize(mean=feature_extractor.image_mean, std=feature_extractor.image_std)\n",
    "_train_transforms = Compose(\n",
    "        [\n",
    "            RandomResizedCrop(feature_extractor.size),\n",
    "            RandomHorizontalFlip(),\n",
    "            ToTensor(),\n",
    "            normalize,\n",
    "        ]\n",
    "    )\n",
    "\n",
    "_val_transforms = Compose(\n",
    "        [\n",
    "            Resize(feature_extractor.size),\n",
    "            CenterCrop(feature_extractor.size),\n",
    "            ToTensor(),\n",
    "            normalize,\n",
    "        ]\n",
    "    )\n",
    "\n",
    "def train_transforms(examples):\n",
    "    examples['pixel_values'] = [_train_transforms(image.convert(\"RGB\")) for image in examples['image']]\n",
    "    return examples\n",
    "\n",
    "def val_transforms(examples):\n",
    "    examples['pixel_values'] = [_val_transforms(image.convert(\"RGB\")) for image in examples['image']]\n",
    "    return examples"
   ]
  },
  {
   "cell_type": "code",
   "execution_count": 6,
   "id": "e692871b",
   "metadata": {},
   "outputs": [],
   "source": [
    "# Set the transforms\n",
    "train_ds.set_transform(train_transforms)\n",
    "val_ds.set_transform(val_transforms)\n",
    "test_ds.set_transform(val_transforms)"
   ]
  },
  {
   "cell_type": "code",
   "execution_count": 7,
   "id": "e2e5a994",
   "metadata": {},
   "outputs": [
    {
     "data": {
      "text/plain": [
       "{'image': [<PIL.PngImagePlugin.PngImageFile image mode=RGBA size=496x369 at 0x7EFD949DF4E0>,\n",
       "  <PIL.PngImagePlugin.PngImageFile image mode=RGBA size=496x369 at 0x7EFD949DF470>],\n",
       " 'classID': [7, 3],\n",
       " 'class': ['jackhammer', 'dog_bark'],\n",
       " 'pixel_values': [tensor([[[ 1.1187,  1.1187,  1.1187,  ...,  1.0673,  0.7077,  0.7077],\n",
       "           [ 1.0844,  1.0844,  1.0844,  ...,  1.0331,  0.7248,  0.7248],\n",
       "           [ 0.9303,  0.9303,  0.9303,  ...,  0.8618,  0.8104,  0.8104],\n",
       "           ...,\n",
       "           [ 2.1119,  2.1119,  2.1119,  ...,  2.1804,  2.0948,  2.0948],\n",
       "           [ 2.1119,  2.1119,  2.1119,  ...,  2.2147,  2.1633,  2.1633],\n",
       "           [ 2.1119,  2.1119,  2.1119,  ...,  2.2147,  2.1633,  2.1633]],\n",
       "  \n",
       "          [[-1.0378, -1.0378, -1.0378,  ..., -1.0553, -1.1779, -1.1779],\n",
       "           [-1.0553, -1.0553, -1.0553,  ..., -1.0728, -1.1779, -1.1779],\n",
       "           [-1.1078, -1.1078, -1.1078,  ..., -1.1253, -1.1429, -1.1429],\n",
       "           ...,\n",
       "           [-0.0399, -0.0399, -0.0399,  ...,  0.4678,  0.0476,  0.0476],\n",
       "           [-0.0749, -0.0749, -0.0749,  ...,  0.6779,  0.2402,  0.2227],\n",
       "           [-0.0749, -0.0749, -0.0749,  ...,  0.6779,  0.2402,  0.2227]],\n",
       "  \n",
       "          [[ 0.2696,  0.2696,  0.2696,  ...,  0.2871,  0.3916,  0.3916],\n",
       "           [ 0.2871,  0.2871,  0.2871,  ...,  0.3045,  0.3916,  0.3916],\n",
       "           [ 0.3393,  0.3393,  0.3393,  ...,  0.3393,  0.3568,  0.3568],\n",
       "           ...,\n",
       "           [-0.2010, -0.2010, -0.2010,  ..., -0.0092, -0.1487, -0.1487],\n",
       "           [-0.2010, -0.2010, -0.2010,  ...,  0.0605, -0.1487, -0.1487],\n",
       "           [-0.2010, -0.2010, -0.2010,  ...,  0.0605, -0.1487, -0.1487]]]),\n",
       "  tensor([[[ 0.3481,  0.3481,  0.3481,  ...,  0.4851,  0.4851,  0.1939],\n",
       "           [ 0.3481,  0.3481,  0.3481,  ...,  0.4851,  0.4851,  0.1939],\n",
       "           [ 0.3823,  0.3138,  0.3138,  ...,  0.5878,  0.5878,  0.3481],\n",
       "           ...,\n",
       "           [ 2.2318,  2.2318,  2.2318,  ...,  2.2147,  2.2147,  2.1290],\n",
       "           [ 2.2318,  2.2318,  2.2318,  ...,  2.1975,  2.1975,  2.1975],\n",
       "           [ 2.2318,  2.2318,  2.2318,  ...,  2.1975,  2.1975,  2.2147]],\n",
       "  \n",
       "          [[-1.3004, -1.3004, -1.3004,  ..., -1.2479, -1.2479, -1.3529],\n",
       "           [-1.3004, -1.3004, -1.3004,  ..., -1.2479, -1.2479, -1.3529],\n",
       "           [-1.2829, -1.3004, -1.3004,  ..., -1.2129, -1.2129, -1.3004],\n",
       "           ...,\n",
       "           [ 0.9405,  1.1506,  1.1506,  ...,  0.5903,  0.5903,  0.0301],\n",
       "           [ 0.8880,  1.1856,  1.1856,  ...,  0.4503,  0.4503,  0.4853],\n",
       "           [ 0.8704,  1.2031,  1.2031,  ...,  0.4153,  0.4153,  0.6078]],\n",
       "  \n",
       "          [[ 0.4439,  0.4439,  0.4439,  ...,  0.4265,  0.4265,  0.4439],\n",
       "           [ 0.4439,  0.4439,  0.4439,  ...,  0.4265,  0.4265,  0.4439],\n",
       "           [ 0.4439,  0.4439,  0.4439,  ...,  0.4091,  0.4091,  0.4265],\n",
       "           ...,\n",
       "           [ 0.2173,  0.3568,  0.3568,  ...,  0.0082,  0.0082, -0.1835],\n",
       "           [ 0.1825,  0.3916,  0.3916,  ..., -0.0615, -0.0615, -0.0267],\n",
       "           [ 0.1825,  0.4091,  0.4091,  ..., -0.0790, -0.0790,  0.0256]]])]}"
      ]
     },
     "execution_count": 7,
     "metadata": {},
     "output_type": "execute_result"
    }
   ],
   "source": [
    "train_ds[:2]"
   ]
  },
  {
   "cell_type": "code",
   "execution_count": 8,
   "id": "65c25ad8",
   "metadata": {},
   "outputs": [],
   "source": [
    "from torch.utils.data import DataLoader\n",
    "import torch\n",
    "\n",
    "def collate_fn(examples):\n",
    "    pixel_values = torch.stack([example[\"pixel_values\"] for example in examples])\n",
    "    labels = torch.tensor([example[\"classID\"] for example in examples])\n",
    "    return {\"pixel_values\": pixel_values, \"labels\": labels}\n",
    "\n",
    "train_dataloader = DataLoader(train_ds, collate_fn=collate_fn, batch_size=4)"
   ]
  },
  {
   "cell_type": "code",
   "execution_count": 9,
   "id": "4921f1c6",
   "metadata": {},
   "outputs": [
    {
     "name": "stdout",
     "output_type": "stream",
     "text": [
      "pixel_values torch.Size([4, 3, 224, 224])\n",
      "labels torch.Size([4])\n"
     ]
    }
   ],
   "source": [
    "batch = next(iter(train_dataloader))\n",
    "for k,v in batch.items():\n",
    "  if isinstance(v, torch.Tensor):\n",
    "    print(k, v.shape)"
   ]
  },
  {
   "cell_type": "code",
   "execution_count": 18,
   "id": "26dd9088",
   "metadata": {},
   "outputs": [
    {
     "name": "stderr",
     "output_type": "stream",
     "text": [
      "https://huggingface.co/facebook/deit-base-distilled-patch16-224/resolve/main/config.json not found in cache or force_download set to True, downloading to /home/ubuntu/.cache/huggingface/transformers/tmp66s4h8fp\n"
     ]
    },
    {
     "data": {
      "application/vnd.jupyter.widget-view+json": {
       "model_id": "05269f154e464c9ea4c109b730b59986",
       "version_major": 2,
       "version_minor": 0
      },
      "text/plain": [
       "Downloading:   0%|          | 0.00/68.0k [00:00<?, ?B/s]"
      ]
     },
     "metadata": {},
     "output_type": "display_data"
    },
    {
     "name": "stderr",
     "output_type": "stream",
     "text": [
      "storing https://huggingface.co/facebook/deit-base-distilled-patch16-224/resolve/main/config.json in cache at /home/ubuntu/.cache/huggingface/transformers/714ee60a09194779d2acdbf17d75f0cca867f496a85550c69b29fd6f66c8b4fa.a46ddd6a2d7a28e819ee5dfa80b7ccfbcb74b937148567c84d918781d35b3721\n",
      "creating metadata file for /home/ubuntu/.cache/huggingface/transformers/714ee60a09194779d2acdbf17d75f0cca867f496a85550c69b29fd6f66c8b4fa.a46ddd6a2d7a28e819ee5dfa80b7ccfbcb74b937148567c84d918781d35b3721\n",
      "loading configuration file https://huggingface.co/facebook/deit-base-distilled-patch16-224/resolve/main/config.json from cache at /home/ubuntu/.cache/huggingface/transformers/714ee60a09194779d2acdbf17d75f0cca867f496a85550c69b29fd6f66c8b4fa.a46ddd6a2d7a28e819ee5dfa80b7ccfbcb74b937148567c84d918781d35b3721\n",
      "Model config DeiTConfig {\n",
      "  \"architectures\": [\n",
      "    \"DeiTForImageClassificationWithTeacher\"\n",
      "  ],\n",
      "  \"attention_probs_dropout_prob\": 0.0,\n",
      "  \"encoder_stride\": 16,\n",
      "  \"hidden_act\": \"gelu\",\n",
      "  \"hidden_dropout_prob\": 0.0,\n",
      "  \"hidden_size\": 768,\n",
      "  \"id2label\": {\n",
      "    \"0\": \"air_conditioner\",\n",
      "    \"1\": \"car_horn\",\n",
      "    \"2\": \"children_playing\",\n",
      "    \"3\": \"dog_bark\",\n",
      "    \"4\": \"drilling\",\n",
      "    \"5\": \"engine_idling\",\n",
      "    \"6\": \"gun_shot\",\n",
      "    \"7\": \"jackhammer\",\n",
      "    \"8\": \"siren\",\n",
      "    \"9\": \"street_music\"\n",
      "  },\n",
      "  \"image_size\": 224,\n",
      "  \"initializer_range\": 0.02,\n",
      "  \"intermediate_size\": 3072,\n",
      "  \"label2id\": {\n",
      "    \"air_conditioner\": 0,\n",
      "    \"car_horn\": 1,\n",
      "    \"children_playing\": 2,\n",
      "    \"dog_bark\": 3,\n",
      "    \"drilling\": 4,\n",
      "    \"engine_idling\": 5,\n",
      "    \"gun_shot\": 6,\n",
      "    \"jackhammer\": 7,\n",
      "    \"siren\": 8,\n",
      "    \"street_music\": 9\n",
      "  },\n",
      "  \"layer_norm_eps\": 1e-12,\n",
      "  \"model_type\": \"deit\",\n",
      "  \"num_attention_heads\": 12,\n",
      "  \"num_channels\": 3,\n",
      "  \"num_hidden_layers\": 12,\n",
      "  \"patch_size\": 16,\n",
      "  \"qkv_bias\": true,\n",
      "  \"transformers_version\": \"4.18.0\"\n",
      "}\n",
      "\n",
      "https://huggingface.co/facebook/deit-base-distilled-patch16-224/resolve/main/pytorch_model.bin not found in cache or force_download set to True, downloading to /home/ubuntu/.cache/huggingface/transformers/tmpvv5akrzc\n"
     ]
    },
    {
     "data": {
      "application/vnd.jupyter.widget-view+json": {
       "model_id": "1060fa750ec7491aa11b73f7ebd786c9",
       "version_major": 2,
       "version_minor": 0
      },
      "text/plain": [
       "Downloading:   0%|          | 0.00/333M [00:00<?, ?B/s]"
      ]
     },
     "metadata": {},
     "output_type": "display_data"
    },
    {
     "name": "stderr",
     "output_type": "stream",
     "text": [
      "storing https://huggingface.co/facebook/deit-base-distilled-patch16-224/resolve/main/pytorch_model.bin in cache at /home/ubuntu/.cache/huggingface/transformers/4bd4c7588647eabacf363ecf61f5285633607d10e315048b47ca4bc5b9742f49.89cf9afdd85db0db778890939fde24ed5f60ce453af494c4f12946c6b3efda91\n",
      "creating metadata file for /home/ubuntu/.cache/huggingface/transformers/4bd4c7588647eabacf363ecf61f5285633607d10e315048b47ca4bc5b9742f49.89cf9afdd85db0db778890939fde24ed5f60ce453af494c4f12946c6b3efda91\n",
      "loading weights file https://huggingface.co/facebook/deit-base-distilled-patch16-224/resolve/main/pytorch_model.bin from cache at /home/ubuntu/.cache/huggingface/transformers/4bd4c7588647eabacf363ecf61f5285633607d10e315048b47ca4bc5b9742f49.89cf9afdd85db0db778890939fde24ed5f60ce453af494c4f12946c6b3efda91\n",
      "Some weights of the model checkpoint at facebook/deit-base-distilled-patch16-224 were not used when initializing DeiTForImageClassification: ['cls_classifier.bias', 'distillation_classifier.weight', 'cls_classifier.weight', 'distillation_classifier.bias']\n",
      "- This IS expected if you are initializing DeiTForImageClassification from the checkpoint of a model trained on another task or with another architecture (e.g. initializing a BertForSequenceClassification model from a BertForPreTraining model).\n",
      "- This IS NOT expected if you are initializing DeiTForImageClassification from the checkpoint of a model that you expect to be exactly identical (initializing a BertForSequenceClassification model from a BertForSequenceClassification model).\n",
      "Some weights of DeiTForImageClassification were not initialized from the model checkpoint at facebook/deit-base-distilled-patch16-224 and are newly initialized: ['classifier.weight', 'classifier.bias']\n",
      "You should probably TRAIN this model on a down-stream task to be able to use it for predictions and inference.\n"
     ]
    }
   ],
   "source": [
    "from transformers import DeiTForImageClassification\n",
    "model = DeiTForImageClassification.from_pretrained(\"facebook/deit-base-distilled-patch16-224\",\n",
    "                                                  num_labels=10,\n",
    "                                                  id2label=id2label,\n",
    "                                                  label2id=label2id,\n",
    "                                                  ignore_mismatched_sizes=True)"
   ]
  },
  {
   "cell_type": "code",
   "execution_count": 19,
   "id": "f76924c6",
   "metadata": {},
   "outputs": [
    {
     "name": "stderr",
     "output_type": "stream",
     "text": [
      "PyTorch: setting up devices\n",
      "The default value for the training argument `--report_to` will change in v5 (from all installed integrations to none). In v5, you will need to use `--report_to all` to get the same behavior as now. You should start updating your code and make this info disappear :-).\n"
     ]
    }
   ],
   "source": [
    "from transformers import TrainingArguments, Trainer\n",
    "\n",
    "metric_name = \"accuracy\"\n",
    "\n",
    "args = TrainingArguments(\n",
    "    f\"test-cifar-10\",\n",
    "    save_strategy=\"epoch\",\n",
    "    evaluation_strategy=\"epoch\",\n",
    "    learning_rate=2e-5,\n",
    "    per_device_train_batch_size=10,\n",
    "    per_device_eval_batch_size=4,\n",
    "    num_train_epochs=5,\n",
    "    weight_decay=0.01,\n",
    "    load_best_model_at_end=True,\n",
    "    metric_for_best_model=metric_name,\n",
    "    logging_dir='logs',\n",
    "    remove_unused_columns=False,\n",
    ")"
   ]
  },
  {
   "cell_type": "code",
   "execution_count": 20,
   "id": "029166e3",
   "metadata": {},
   "outputs": [],
   "source": [
    "from datasets import load_metric\n",
    "import numpy as np\n",
    "\n",
    "metric = load_metric(\"accuracy\")\n",
    "\n",
    "def compute_metrics(eval_pred):\n",
    "    predictions, labels = eval_pred\n",
    "    predictions = np.argmax(predictions, axis=1)\n",
    "    return metric.compute(predictions=predictions, references=labels)"
   ]
  },
  {
   "cell_type": "code",
   "execution_count": 21,
   "id": "8b9be66f",
   "metadata": {},
   "outputs": [],
   "source": [
    "import torch\n",
    "\n",
    "trainer = Trainer(\n",
    "    model,\n",
    "    args,\n",
    "    train_dataset=train_ds,\n",
    "    eval_dataset=val_ds,\n",
    "    data_collator=collate_fn,\n",
    "    compute_metrics=compute_metrics,\n",
    "    tokenizer=feature_extractor,\n",
    ")"
   ]
  },
  {
   "cell_type": "code",
   "execution_count": 14,
   "id": "29623196",
   "metadata": {},
   "outputs": [
    {
     "data": {
      "text/html": [
       "\n",
       "      <iframe id=\"tensorboard-frame-1c80317fa3b1799d\" width=\"100%\" height=\"800\" frameborder=\"0\">\n",
       "      </iframe>\n",
       "      <script>\n",
       "        (function() {\n",
       "          const frame = document.getElementById(\"tensorboard-frame-1c80317fa3b1799d\");\n",
       "          const url = new URL(\"/\", window.location);\n",
       "          const port = 6006;\n",
       "          if (port) {\n",
       "            url.port = port;\n",
       "          }\n",
       "          frame.src = url;\n",
       "        })();\n",
       "      </script>\n",
       "    "
      ],
      "text/plain": [
       "<IPython.core.display.HTML object>"
      ]
     },
     "metadata": {},
     "output_type": "display_data"
    }
   ],
   "source": [
    "# Start tensorboard.\n",
    "%load_ext tensorboard\n",
    "%tensorboard --logdir logs/"
   ]
  },
  {
   "cell_type": "code",
   "execution_count": 22,
   "id": "f8ad3fc4",
   "metadata": {},
   "outputs": [
    {
     "name": "stderr",
     "output_type": "stream",
     "text": [
      "/home/ubuntu/anaconda3/envs/aws_neuron_pytorch_p36/lib/python3.6/site-packages/transformers/optimization.py:309: FutureWarning: This implementation of AdamW is deprecated and will be removed in a future version. Use the PyTorch implementation torch.optim.AdamW instead, or set `no_deprecation_warning=True` to disable this warning\n",
      "  FutureWarning,\n",
      "***** Running training *****\n",
      "  Num examples = 5500\n",
      "  Num Epochs = 5\n",
      "  Instantaneous batch size per device = 10\n",
      "  Total train batch size (w. parallel, distributed & accumulation) = 10\n",
      "  Gradient Accumulation steps = 1\n",
      "  Total optimization steps = 2750\n"
     ]
    },
    {
     "data": {
      "text/html": [
       "\n",
       "    <div>\n",
       "      \n",
       "      <progress value='2750' max='2750' style='width:300px; height:20px; vertical-align: middle;'></progress>\n",
       "      [2750/2750 1:12:34, Epoch 5/5]\n",
       "    </div>\n",
       "    <table border=\"1\" class=\"dataframe\">\n",
       "  <thead>\n",
       " <tr style=\"text-align: left;\">\n",
       "      <th>Epoch</th>\n",
       "      <th>Training Loss</th>\n",
       "      <th>Validation Loss</th>\n",
       "      <th>Accuracy</th>\n",
       "    </tr>\n",
       "  </thead>\n",
       "  <tbody>\n",
       "    <tr>\n",
       "      <td>1</td>\n",
       "      <td>0.954500</td>\n",
       "      <td>0.466000</td>\n",
       "      <td>0.841503</td>\n",
       "    </tr>\n",
       "    <tr>\n",
       "      <td>2</td>\n",
       "      <td>0.569900</td>\n",
       "      <td>0.275393</td>\n",
       "      <td>0.908497</td>\n",
       "    </tr>\n",
       "    <tr>\n",
       "      <td>3</td>\n",
       "      <td>0.452800</td>\n",
       "      <td>0.233814</td>\n",
       "      <td>0.919935</td>\n",
       "    </tr>\n",
       "    <tr>\n",
       "      <td>4</td>\n",
       "      <td>0.378800</td>\n",
       "      <td>0.164148</td>\n",
       "      <td>0.947712</td>\n",
       "    </tr>\n",
       "    <tr>\n",
       "      <td>5</td>\n",
       "      <td>0.320400</td>\n",
       "      <td>0.150808</td>\n",
       "      <td>0.950980</td>\n",
       "    </tr>\n",
       "  </tbody>\n",
       "</table><p>"
      ],
      "text/plain": [
       "<IPython.core.display.HTML object>"
      ]
     },
     "metadata": {},
     "output_type": "display_data"
    },
    {
     "name": "stderr",
     "output_type": "stream",
     "text": [
      "***** Running Evaluation *****\n",
      "  Num examples = 612\n",
      "  Batch size = 4\n",
      "Saving model checkpoint to test-cifar-10/checkpoint-550\n",
      "Configuration saved in test-cifar-10/checkpoint-550/config.json\n",
      "Model weights saved in test-cifar-10/checkpoint-550/pytorch_model.bin\n",
      "Feature extractor saved in test-cifar-10/checkpoint-550/preprocessor_config.json\n",
      "***** Running Evaluation *****\n",
      "  Num examples = 612\n",
      "  Batch size = 4\n",
      "Saving model checkpoint to test-cifar-10/checkpoint-1100\n",
      "Configuration saved in test-cifar-10/checkpoint-1100/config.json\n",
      "Model weights saved in test-cifar-10/checkpoint-1100/pytorch_model.bin\n",
      "Feature extractor saved in test-cifar-10/checkpoint-1100/preprocessor_config.json\n",
      "***** Running Evaluation *****\n",
      "  Num examples = 612\n",
      "  Batch size = 4\n",
      "Saving model checkpoint to test-cifar-10/checkpoint-1650\n",
      "Configuration saved in test-cifar-10/checkpoint-1650/config.json\n",
      "Model weights saved in test-cifar-10/checkpoint-1650/pytorch_model.bin\n",
      "Feature extractor saved in test-cifar-10/checkpoint-1650/preprocessor_config.json\n",
      "***** Running Evaluation *****\n",
      "  Num examples = 612\n",
      "  Batch size = 4\n",
      "Saving model checkpoint to test-cifar-10/checkpoint-2200\n",
      "Configuration saved in test-cifar-10/checkpoint-2200/config.json\n",
      "Model weights saved in test-cifar-10/checkpoint-2200/pytorch_model.bin\n",
      "Feature extractor saved in test-cifar-10/checkpoint-2200/preprocessor_config.json\n",
      "***** Running Evaluation *****\n",
      "  Num examples = 612\n",
      "  Batch size = 4\n",
      "Saving model checkpoint to test-cifar-10/checkpoint-2750\n",
      "Configuration saved in test-cifar-10/checkpoint-2750/config.json\n",
      "Model weights saved in test-cifar-10/checkpoint-2750/pytorch_model.bin\n",
      "Feature extractor saved in test-cifar-10/checkpoint-2750/preprocessor_config.json\n",
      "\n",
      "\n",
      "Training completed. Do not forget to share your model on huggingface.co/models =)\n",
      "\n",
      "\n",
      "Loading best model from test-cifar-10/checkpoint-2750 (score: 0.9509803921568627).\n"
     ]
    },
    {
     "data": {
      "text/plain": [
       "TrainOutput(global_step=2750, training_loss=0.5126709400523792, metrics={'train_runtime': 4356.6678, 'train_samples_per_second': 6.312, 'train_steps_per_second': 0.631, 'total_flos': 2.13122066217984e+18, 'train_loss': 0.5126709400523792, 'epoch': 5.0})"
      ]
     },
     "execution_count": 22,
     "metadata": {},
     "output_type": "execute_result"
    }
   ],
   "source": [
    "trainer.train()"
   ]
  },
  {
   "cell_type": "code",
   "execution_count": 23,
   "id": "3d64a815",
   "metadata": {},
   "outputs": [
    {
     "name": "stderr",
     "output_type": "stream",
     "text": [
      "***** Running Prediction *****\n",
      "  Num examples = 2620\n",
      "  Batch size = 4\n"
     ]
    },
    {
     "data": {
      "text/html": [
       "\n",
       "    <div>\n",
       "      \n",
       "      <progress value='655' max='655' style='width:300px; height:20px; vertical-align: middle;'></progress>\n",
       "      [655/655 02:24]\n",
       "    </div>\n",
       "    "
      ],
      "text/plain": [
       "<IPython.core.display.HTML object>"
      ]
     },
     "metadata": {},
     "output_type": "display_data"
    }
   ],
   "source": [
    "outputs = trainer.predict(test_ds)"
   ]
  },
  {
   "cell_type": "code",
   "execution_count": 24,
   "id": "b2a0661b",
   "metadata": {},
   "outputs": [
    {
     "name": "stdout",
     "output_type": "stream",
     "text": [
      "{'test_loss': 0.1805463284254074, 'test_accuracy': 0.9427480916030534, 'test_runtime': 144.4759, 'test_samples_per_second': 18.135, 'test_steps_per_second': 4.534}\n"
     ]
    }
   ],
   "source": [
    "print(outputs.metrics)"
   ]
  },
  {
   "cell_type": "code",
   "execution_count": 25,
   "id": "ed6d78a1",
   "metadata": {},
   "outputs": [
    {
     "data": {
      "text/plain": [
       "<sklearn.metrics._plot.confusion_matrix.ConfusionMatrixDisplay at 0x7efe778b2940>"
      ]
     },
     "execution_count": 25,
     "metadata": {},
     "output_type": "execute_result"
    },
    {
     "data": {
      "image/png": "[encoded data removed]",
      "text/plain": [
       "<Figure size 432x288 with 2 Axes>"
      ]
     },
     "metadata": {
      "needs_background": "light"
     },
     "output_type": "display_data"
    }
   ],
   "source": [
    "from sklearn.metrics import confusion_matrix, ConfusionMatrixDisplay\n",
    "\n",
    "y_true = outputs.label_ids\n",
    "y_pred = outputs.predictions.argmax(1)\n",
    "\n",
    "labels = id2label.values()\n",
    "cm = confusion_matrix(y_true, y_pred)\n",
    "disp = ConfusionMatrixDisplay(confusion_matrix=cm, display_labels=labels)\n",
    "disp.plot(xticks_rotation=45)"
   ]
  },
  {
   "cell_type": "code",
   "execution_count": 26,
   "id": "6a2a2b41",
   "metadata": {},
   "outputs": [
    {
     "name": "stderr",
     "output_type": "stream",
     "text": [
      "Configuration saved in /home/ubuntu/models/AudioDeiT/config.json\n",
      "Model weights saved in /home/ubuntu/models/AudioDeiT/pytorch_model.bin\n"
     ]
    }
   ],
   "source": [
    "model.save_pretrained(\"/home/ubuntu/models/AudioDeiT\")"
   ]
  },
  {
   "cell_type": "code",
   "execution_count": null,
   "id": "768518f3",
   "metadata": {},
   "outputs": [],
   "source": []
  }
 ],
 "metadata": {
  "kernelspec": {
   "display_name": "Environment (conda_aws_neuron_pytorch_p36)",
   "language": "python",
   "name": "conda_aws_neuron_pytorch_p36"
  },
  "language_info": {
   "codemirror_mode": {
    "name": "ipython",
    "version": 3
   },
   "file_extension": ".py",
   "mimetype": "text/x-python",
   "name": "python",
   "nbconvert_exporter": "python",
   "pygments_lexer": "ipython3",
   "version": "3.6.13"
  }
 },
 "nbformat": 4,
 "nbformat_minor": 5
}
