{
 "cells": [
  {
   "cell_type": "code",
   "execution_count": 1,
   "id": "c6150a59",
   "metadata": {},
   "outputs": [
    {
     "data": {
      "application/vnd.jupyter.widget-view+json": {
       "model_id": "2b4091915e424b379025753c52b8b779",
       "version_major": 2,
       "version_minor": 0
      },
      "text/plain": [
       "Resolving data files:   0%|          | 0/8733 [00:00<?, ?it/s]"
      ]
     },
     "metadata": {},
     "output_type": "display_data"
    },
    {
     "name": "stderr",
     "output_type": "stream",
     "text": [
      "Using custom data configuration default-056bb73702904399\n",
      "Reusing dataset image_folder (/home/ubuntu/.cache/huggingface/datasets/image_folder/default-056bb73702904399/0.0.0/48efdc62d40223daee675ca093d163bcb6cb0b7d7f93eb25aebf5edca72dc597)\n"
     ]
    },
    {
     "name": "stdout",
     "output_type": "stream",
     "text": [
      "5500 2620 612\n"
     ]
    }
   ],
   "source": [
    "from datasets import load_dataset\n",
    "\n",
    "train_ds = load_dataset(\"imagefolder\", data_dir=\"audio_transformer/data/train\", split=\"train\")\n",
    "\n",
    "\n",
    "# split up training into training + validation\n",
    "splits = train_ds.train_test_split(test_size=0.3)\n",
    "train_val_ds = splits['train']\n",
    "test_ds = splits['test']\n",
    "\n",
    "splits = train_val_ds.train_test_split(test_size=0.1)\n",
    "train_ds = splits['train']\n",
    "val_ds = splits['test']\n",
    "\n",
    "\n",
    "print(len(train_ds),len(test_ds),len(val_ds))"
   ]
  },
  {
   "cell_type": "code",
   "execution_count": 2,
   "id": "6d1ebeec",
   "metadata": {},
   "outputs": [
    {
     "data": {
      "text/plain": [
       "Dataset({\n",
       "    features: ['image', 'classID', 'class'],\n",
       "    num_rows: 5500\n",
       "})"
      ]
     },
     "execution_count": 2,
     "metadata": {},
     "output_type": "execute_result"
    }
   ],
   "source": [
    "train_ds"
   ]
  },
  {
   "cell_type": "code",
   "execution_count": 3,
   "id": "f2926687",
   "metadata": {},
   "outputs": [
    {
     "data": {
      "text/plain": [
       "{0: 'air_conditioner',\n",
       " 1: 'car_horn',\n",
       " 2: 'children_playing',\n",
       " 3: 'dog_bark',\n",
       " 4: 'drilling',\n",
       " 5: 'engine_idling',\n",
       " 6: 'gun_shot',\n",
       " 7: 'jackhammer',\n",
       " 8: 'siren',\n",
       " 9: 'street_music'}"
      ]
     },
     "execution_count": 3,
     "metadata": {},
     "output_type": "execute_result"
    }
   ],
   "source": [
    "import json\n",
    "\n",
    "with open('audio_transformer/data/label2id.json') as f:\n",
    "    label2id = json.load(f)\n",
    "\n",
    "with open('audio_transformer/data/id2label.json') as f:\n",
    "    id2label = json.load(f)\n",
    "\n",
    "id2label = {int(key):value for key,value in id2label.items()}\n",
    "id2label"
   ]
  },
  {
   "cell_type": "code",
   "execution_count": 4,
   "id": "ca686d8c",
   "metadata": {},
   "outputs": [],
   "source": [
    "from transformers import AutoFeatureExtractor, SwinForImageClassification\n",
    "\n",
    "feature_extractor = AutoFeatureExtractor.from_pretrained(\"microsoft/swin-tiny-patch4-window7-224\")\n",
    "# model = SwinForImageClassification.from_pretrained(\"microsoft/swin-tiny-patch4-window7-224\")\n"
   ]
  },
  {
   "cell_type": "code",
   "execution_count": 5,
   "id": "24026f63",
   "metadata": {},
   "outputs": [],
   "source": [
    "from torchvision.transforms import (CenterCrop, \n",
    "                                    Compose, \n",
    "                                    Normalize, \n",
    "                                    RandomHorizontalFlip,\n",
    "                                    RandomResizedCrop, \n",
    "                                    Resize, \n",
    "                                    ToTensor)\n",
    "\n",
    "normalize = Normalize(mean=feature_extractor.image_mean, std=feature_extractor.image_std)\n",
    "_train_transforms = Compose(\n",
    "        [\n",
    "            RandomResizedCrop(feature_extractor.size),\n",
    "            RandomHorizontalFlip(),\n",
    "            ToTensor(),\n",
    "            normalize,\n",
    "        ]\n",
    "    )\n",
    "\n",
    "_val_transforms = Compose(\n",
    "        [\n",
    "            Resize(feature_extractor.size),\n",
    "            CenterCrop(feature_extractor.size),\n",
    "            ToTensor(),\n",
    "            normalize,\n",
    "        ]\n",
    "    )\n",
    "\n",
    "def train_transforms(examples):\n",
    "    examples['pixel_values'] = [_train_transforms(image.convert(\"RGB\")) for image in examples['image']]\n",
    "    return examples\n",
    "\n",
    "def val_transforms(examples):\n",
    "    examples['pixel_values'] = [_val_transforms(image.convert(\"RGB\")) for image in examples['image']]\n",
    "    return examples"
   ]
  },
  {
   "cell_type": "code",
   "execution_count": 6,
   "id": "cf01c4a5",
   "metadata": {},
   "outputs": [],
   "source": [
    "# Set the transforms\n",
    "train_ds.set_transform(train_transforms)\n",
    "val_ds.set_transform(val_transforms)\n",
    "test_ds.set_transform(val_transforms)"
   ]
  },
  {
   "cell_type": "code",
   "execution_count": 7,
   "id": "e9e0d6b4",
   "metadata": {},
   "outputs": [
    {
     "data": {
      "text/plain": [
       "{'image': [<PIL.PngImagePlugin.PngImageFile image mode=RGBA size=496x369 at 0x7F8F2C705CF8>,\n",
       "  <PIL.PngImagePlugin.PngImageFile image mode=RGBA size=496x369 at 0x7F8F2C7059B0>],\n",
       " 'classID': [0, 3],\n",
       " 'class': ['air_conditioner', 'dog_bark'],\n",
       " 'pixel_values': [tensor([[[-1.3987, -1.4158, -1.5357,  ..., -1.5357, -1.5357, -1.5357],\n",
       "           [-1.3815, -1.3815, -1.4500,  ..., -1.5699, -1.5699, -1.5699],\n",
       "           [-1.3473, -1.3473, -1.3473,  ..., -1.6042, -1.6213, -1.6213],\n",
       "           ...,\n",
       "           [ 2.1119,  2.1119,  2.1119,  ...,  2.0263,  1.9578,  1.9407],\n",
       "           [ 2.1462,  2.1462,  2.1804,  ...,  1.9407,  1.9235,  1.9235],\n",
       "           [ 2.1462,  2.1462,  2.1804,  ...,  1.9407,  1.9235,  1.9235]],\n",
       "  \n",
       "          [[-1.7381, -1.7381, -1.7381,  ..., -1.7381, -1.7381, -1.7381],\n",
       "           [-1.7381, -1.7381, -1.7381,  ..., -1.7381, -1.7381, -1.7381],\n",
       "           [-1.7381, -1.7381, -1.7381,  ..., -1.7381, -1.7381, -1.7381],\n",
       "           ...,\n",
       "           [-0.0224, -0.0224, -0.0224,  ..., -0.2500, -0.4426, -0.4601],\n",
       "           [ 0.1176,  0.1352,  0.2402,  ..., -0.4601, -0.4951, -0.4951],\n",
       "           [ 0.1176,  0.1352,  0.2402,  ..., -0.4601, -0.4951, -0.4951]],\n",
       "  \n",
       "          [[-0.2010, -0.2358, -0.4275,  ..., -0.4101, -0.4101, -0.4101],\n",
       "           [-0.1661, -0.1835, -0.2881,  ..., -0.4624, -0.4798, -0.4798],\n",
       "           [-0.1138, -0.1138, -0.1138,  ..., -0.5321, -0.5670, -0.5670],\n",
       "           ...,\n",
       "           [-0.2010, -0.2010, -0.1835,  ..., -0.1835, -0.1487, -0.1487],\n",
       "           [-0.1835, -0.1835, -0.1487,  ..., -0.1487, -0.1312, -0.1312],\n",
       "           [-0.1835, -0.1835, -0.1487,  ..., -0.1487, -0.1312, -0.1312]]]),\n",
       "  tensor([[[-2.1179, -2.1179, -2.1179,  ..., -2.1179, -2.1179, -2.1179],\n",
       "           [-2.1179, -2.1179, -2.1179,  ..., -2.1179, -2.1179, -2.1179],\n",
       "           [-2.1179, -2.1179, -2.1179,  ..., -2.1179, -2.1179, -2.1179],\n",
       "           ...,\n",
       "           [-0.3883, -0.5767, -0.6452,  ...,  0.0398, -0.1657, -0.6109],\n",
       "           [-0.2171, -0.3883, -0.4568,  ...,  0.2624,  0.0398, -0.4226],\n",
       "           [ 0.2111,  0.0569, -0.0116,  ...,  0.5022,  0.3309, -0.0116]],\n",
       "  \n",
       "          [[-2.0357, -2.0357, -2.0357,  ..., -2.0357, -2.0357, -2.0357],\n",
       "           [-2.0357, -2.0357, -2.0357,  ..., -2.0357, -2.0357, -2.0357],\n",
       "           [-2.0357, -2.0357, -2.0357,  ..., -2.0357, -2.0357, -2.0357],\n",
       "           ...,\n",
       "           [-1.5805, -1.6506, -1.6681,  ..., -1.3880, -1.4580, -1.6506],\n",
       "           [-1.5105, -1.5805, -1.6155,  ..., -1.3354, -1.4055, -1.5980],\n",
       "           [-1.3529, -1.4055, -1.4230,  ..., -1.2479, -1.3004, -1.4230]],\n",
       "  \n",
       "          [[-1.7347, -1.7347, -1.7347,  ..., -1.7347, -1.7347, -1.7347],\n",
       "           [-1.7347, -1.7347, -1.7347,  ..., -1.7347, -1.7347, -1.7347],\n",
       "           [-1.7347, -1.7347, -1.7347,  ..., -1.7347, -1.7347, -1.7347],\n",
       "           ...,\n",
       "           [ 0.4265,  0.3916,  0.3568,  ...,  0.3916,  0.3742,  0.3568],\n",
       "           [ 0.4265,  0.4265,  0.4091,  ...,  0.4439,  0.4265,  0.4265],\n",
       "           [ 0.4439,  0.4614,  0.4614,  ...,  0.4265,  0.4439,  0.4614]]])]}"
      ]
     },
     "execution_count": 7,
     "metadata": {},
     "output_type": "execute_result"
    }
   ],
   "source": [
    "train_ds[:2]"
   ]
  },
  {
   "cell_type": "code",
   "execution_count": 8,
   "id": "04f53652",
   "metadata": {},
   "outputs": [],
   "source": [
    "from torch.utils.data import DataLoader\n",
    "import torch\n",
    "\n",
    "def collate_fn(examples):\n",
    "    pixel_values = torch.stack([example[\"pixel_values\"] for example in examples])\n",
    "    labels = torch.tensor([example[\"classID\"] for example in examples])\n",
    "    return {\"pixel_values\": pixel_values, \"labels\": labels}\n",
    "\n",
    "train_dataloader = DataLoader(train_ds, collate_fn=collate_fn, batch_size=4)"
   ]
  },
  {
   "cell_type": "code",
   "execution_count": 9,
   "id": "93d16a9d",
   "metadata": {},
   "outputs": [
    {
     "name": "stdout",
     "output_type": "stream",
     "text": [
      "pixel_values torch.Size([4, 3, 224, 224])\n",
      "labels torch.Size([4])\n"
     ]
    }
   ],
   "source": [
    "batch = next(iter(train_dataloader))\n",
    "for k,v in batch.items():\n",
    "  if isinstance(v, torch.Tensor):\n",
    "    print(k, v.shape)"
   ]
  },
  {
   "cell_type": "code",
   "execution_count": 10,
   "id": "8dfe11d1",
   "metadata": {},
   "outputs": [
    {
     "name": "stderr",
     "output_type": "stream",
     "text": [
      "/home/ubuntu/anaconda3/envs/aws_neuron_pytorch_p36/lib/python3.6/site-packages/torch/functional.py:445: UserWarning: torch.meshgrid: in an upcoming release, it will be required to pass the indexing argument. (Triggered internally at  ../aten/src/ATen/native/TensorShape.cpp:2157.)\n",
      "  return _VF.meshgrid(tensors, **kwargs)  # type: ignore[attr-defined]\n",
      "Some weights of SwinForImageClassification were not initialized from the model checkpoint at microsoft/swin-tiny-patch4-window7-224 and are newly initialized because the shapes did not match:\n",
      "- classifier.weight: found shape torch.Size([1000, 768]) in the checkpoint and torch.Size([10, 768]) in the model instantiated\n",
      "- classifier.bias: found shape torch.Size([1000]) in the checkpoint and torch.Size([10]) in the model instantiated\n",
      "You should probably TRAIN this model on a down-stream task to be able to use it for predictions and inference.\n"
     ]
    }
   ],
   "source": [
    "from transformers import SwinForImageClassification\n",
    "\n",
    "model = SwinForImageClassification.from_pretrained('microsoft/swin-tiny-patch4-window7-224',\n",
    "                                                  num_labels=10,\n",
    "                                                  id2label=id2label,\n",
    "                                                  label2id=label2id,\n",
    "                                                  ignore_mismatched_sizes=True)"
   ]
  },
  {
   "cell_type": "code",
   "execution_count": 11,
   "id": "a725f45f",
   "metadata": {},
   "outputs": [],
   "source": [
    "from transformers import TrainingArguments, Trainer\n",
    "\n",
    "metric_name = \"accuracy\"\n",
    "\n",
    "args = TrainingArguments(\n",
    "    f\"test-cifar-10\",\n",
    "    save_strategy=\"epoch\",\n",
    "    evaluation_strategy=\"epoch\",\n",
    "    learning_rate=2e-5,\n",
    "    per_device_train_batch_size=10,\n",
    "    per_device_eval_batch_size=4,\n",
    "    num_train_epochs=5,\n",
    "    weight_decay=0.01,\n",
    "    load_best_model_at_end=True,\n",
    "    metric_for_best_model=metric_name,\n",
    "    logging_dir='logs',\n",
    "    remove_unused_columns=False,\n",
    ")"
   ]
  },
  {
   "cell_type": "code",
   "execution_count": 12,
   "id": "f50a3f29",
   "metadata": {},
   "outputs": [],
   "source": [
    "from datasets import load_metric\n",
    "import numpy as np\n",
    "\n",
    "metric = load_metric(\"accuracy\")\n",
    "\n",
    "def compute_metrics(eval_pred):\n",
    "    predictions, labels = eval_pred\n",
    "    predictions = np.argmax(predictions, axis=1)\n",
    "    return metric.compute(predictions=predictions, references=labels)"
   ]
  },
  {
   "cell_type": "code",
   "execution_count": 13,
   "id": "3741a955",
   "metadata": {},
   "outputs": [],
   "source": [
    "import torch\n",
    "\n",
    "trainer = Trainer(\n",
    "    model,\n",
    "    args,\n",
    "    train_dataset=train_ds,\n",
    "    eval_dataset=val_ds,\n",
    "    data_collator=collate_fn,\n",
    "    compute_metrics=compute_metrics,\n",
    "    tokenizer=feature_extractor,\n",
    ")"
   ]
  },
  {
   "cell_type": "code",
   "execution_count": 14,
   "id": "df7956ab",
   "metadata": {},
   "outputs": [
    {
     "data": {
      "text/html": [
       "\n",
       "      <iframe id=\"tensorboard-frame-1c80317fa3b1799d\" width=\"100%\" height=\"800\" frameborder=\"0\">\n",
       "      </iframe>\n",
       "      <script>\n",
       "        (function() {\n",
       "          const frame = document.getElementById(\"tensorboard-frame-1c80317fa3b1799d\");\n",
       "          const url = new URL(\"/\", window.location);\n",
       "          const port = 6006;\n",
       "          if (port) {\n",
       "            url.port = port;\n",
       "          }\n",
       "          frame.src = url;\n",
       "        })();\n",
       "      </script>\n",
       "    "
      ],
      "text/plain": [
       "<IPython.core.display.HTML object>"
      ]
     },
     "metadata": {},
     "output_type": "display_data"
    }
   ],
   "source": [
    "# Start tensorboard.\n",
    "%load_ext tensorboard\n",
    "%tensorboard --logdir logs/"
   ]
  },
  {
   "cell_type": "code",
   "execution_count": 15,
   "id": "1fa67445",
   "metadata": {},
   "outputs": [
    {
     "name": "stderr",
     "output_type": "stream",
     "text": [
      "/home/ubuntu/anaconda3/envs/aws_neuron_pytorch_p36/lib/python3.6/site-packages/transformers/optimization.py:309: FutureWarning: This implementation of AdamW is deprecated and will be removed in a future version. Use the PyTorch implementation torch.optim.AdamW instead, or set `no_deprecation_warning=True` to disable this warning\n",
      "  FutureWarning,\n",
      "***** Running training *****\n",
      "  Num examples = 5500\n",
      "  Num Epochs = 5\n",
      "  Instantaneous batch size per device = 10\n",
      "  Total train batch size (w. parallel, distributed & accumulation) = 10\n",
      "  Gradient Accumulation steps = 1\n",
      "  Total optimization steps = 2750\n"
     ]
    },
    {
     "data": {
      "text/html": [
       "\n",
       "    <div>\n",
       "      \n",
       "      <progress value='2750' max='2750' style='width:300px; height:20px; vertical-align: middle;'></progress>\n",
       "      [2750/2750 36:00, Epoch 5/5]\n",
       "    </div>\n",
       "    <table border=\"1\" class=\"dataframe\">\n",
       "  <thead>\n",
       " <tr style=\"text-align: left;\">\n",
       "      <th>Epoch</th>\n",
       "      <th>Training Loss</th>\n",
       "      <th>Validation Loss</th>\n",
       "      <th>Accuracy</th>\n",
       "    </tr>\n",
       "  </thead>\n",
       "  <tbody>\n",
       "    <tr>\n",
       "      <td>1</td>\n",
       "      <td>1.223700</td>\n",
       "      <td>0.772136</td>\n",
       "      <td>0.743464</td>\n",
       "    </tr>\n",
       "    <tr>\n",
       "      <td>2</td>\n",
       "      <td>0.780700</td>\n",
       "      <td>0.499137</td>\n",
       "      <td>0.826797</td>\n",
       "    </tr>\n",
       "    <tr>\n",
       "      <td>3</td>\n",
       "      <td>0.636600</td>\n",
       "      <td>0.362285</td>\n",
       "      <td>0.892157</td>\n",
       "    </tr>\n",
       "    <tr>\n",
       "      <td>4</td>\n",
       "      <td>0.560900</td>\n",
       "      <td>0.360236</td>\n",
       "      <td>0.869281</td>\n",
       "    </tr>\n",
       "    <tr>\n",
       "      <td>5</td>\n",
       "      <td>0.477300</td>\n",
       "      <td>0.329973</td>\n",
       "      <td>0.892157</td>\n",
       "    </tr>\n",
       "  </tbody>\n",
       "</table><p>"
      ],
      "text/plain": [
       "<IPython.core.display.HTML object>"
      ]
     },
     "metadata": {},
     "output_type": "display_data"
    },
    {
     "name": "stderr",
     "output_type": "stream",
     "text": [
      "***** Running Evaluation *****\n",
      "  Num examples = 612\n",
      "  Batch size = 4\n",
      "Saving model checkpoint to test-cifar-10/checkpoint-550\n",
      "Configuration saved in test-cifar-10/checkpoint-550/config.json\n",
      "Model weights saved in test-cifar-10/checkpoint-550/pytorch_model.bin\n",
      "Feature extractor saved in test-cifar-10/checkpoint-550/preprocessor_config.json\n",
      "***** Running Evaluation *****\n",
      "  Num examples = 612\n",
      "  Batch size = 4\n",
      "Saving model checkpoint to test-cifar-10/checkpoint-1100\n",
      "Configuration saved in test-cifar-10/checkpoint-1100/config.json\n",
      "Model weights saved in test-cifar-10/checkpoint-1100/pytorch_model.bin\n",
      "Feature extractor saved in test-cifar-10/checkpoint-1100/preprocessor_config.json\n",
      "***** Running Evaluation *****\n",
      "  Num examples = 612\n",
      "  Batch size = 4\n",
      "Saving model checkpoint to test-cifar-10/checkpoint-1650\n",
      "Configuration saved in test-cifar-10/checkpoint-1650/config.json\n",
      "Model weights saved in test-cifar-10/checkpoint-1650/pytorch_model.bin\n",
      "Feature extractor saved in test-cifar-10/checkpoint-1650/preprocessor_config.json\n",
      "***** Running Evaluation *****\n",
      "  Num examples = 612\n",
      "  Batch size = 4\n",
      "Saving model checkpoint to test-cifar-10/checkpoint-2200\n",
      "Configuration saved in test-cifar-10/checkpoint-2200/config.json\n",
      "Model weights saved in test-cifar-10/checkpoint-2200/pytorch_model.bin\n",
      "Feature extractor saved in test-cifar-10/checkpoint-2200/preprocessor_config.json\n",
      "***** Running Evaluation *****\n",
      "  Num examples = 612\n",
      "  Batch size = 4\n",
      "Saving model checkpoint to test-cifar-10/checkpoint-2750\n",
      "Configuration saved in test-cifar-10/checkpoint-2750/config.json\n",
      "Model weights saved in test-cifar-10/checkpoint-2750/pytorch_model.bin\n",
      "Feature extractor saved in test-cifar-10/checkpoint-2750/preprocessor_config.json\n",
      "\n",
      "\n",
      "Training completed. Do not forget to share your model on huggingface.co/models =)\n",
      "\n",
      "\n",
      "Loading best model from test-cifar-10/checkpoint-1650 (score: 0.8921568627450981).\n"
     ]
    },
    {
     "data": {
      "text/plain": [
       "TrainOutput(global_step=2750, training_loss=0.7122988641912287, metrics={'train_runtime': 2162.6639, 'train_samples_per_second': 12.716, 'train_steps_per_second': 1.272, 'total_flos': 6.8369249507328e+17, 'train_loss': 0.7122988641912287, 'epoch': 5.0})"
      ]
     },
     "execution_count": 15,
     "metadata": {},
     "output_type": "execute_result"
    }
   ],
   "source": [
    "trainer.train()"
   ]
  },
  {
   "cell_type": "code",
   "execution_count": 16,
   "id": "9ef39cab",
   "metadata": {},
   "outputs": [
    {
     "name": "stderr",
     "output_type": "stream",
     "text": [
      "***** Running Prediction *****\n",
      "  Num examples = 2620\n",
      "  Batch size = 4\n"
     ]
    },
    {
     "data": {
      "text/html": [
       "\n",
       "    <div>\n",
       "      \n",
       "      <progress value='655' max='655' style='width:300px; height:20px; vertical-align: middle;'></progress>\n",
       "      [655/655 01:22]\n",
       "    </div>\n",
       "    "
      ],
      "text/plain": [
       "<IPython.core.display.HTML object>"
      ]
     },
     "metadata": {},
     "output_type": "display_data"
    }
   ],
   "source": [
    "outputs = trainer.predict(test_ds)"
   ]
  },
  {
   "cell_type": "code",
   "execution_count": 17,
   "id": "a68cea24",
   "metadata": {},
   "outputs": [
    {
     "name": "stdout",
     "output_type": "stream",
     "text": [
      "{'test_loss': 0.37027508020401, 'test_accuracy': 0.8729007633587786, 'test_runtime': 82.8466, 'test_samples_per_second': 31.625, 'test_steps_per_second': 7.906}\n"
     ]
    }
   ],
   "source": [
    "print(outputs.metrics)"
   ]
  },
  {
   "cell_type": "code",
   "execution_count": 18,
   "id": "2045fecc",
   "metadata": {},
   "outputs": [
    {
     "data": {
      "text/plain": [
       "<sklearn.metrics._plot.confusion_matrix.ConfusionMatrixDisplay at 0x7f8feefc0da0>"
      ]
     },
     "execution_count": 18,
     "metadata": {},
     "output_type": "execute_result"
    },
    {
     "data": {
      "image/png": "[encoded data removed]",
      "text/plain": [
       "<Figure size 432x288 with 2 Axes>"
      ]
     },
     "metadata": {
      "needs_background": "light"
     },
     "output_type": "display_data"
    }
   ],
   "source": [
    "from sklearn.metrics import confusion_matrix, ConfusionMatrixDisplay\n",
    "\n",
    "y_true = outputs.label_ids\n",
    "y_pred = outputs.predictions.argmax(1)\n",
    "\n",
    "labels = id2label.values()\n",
    "cm = confusion_matrix(y_true, y_pred)\n",
    "disp = ConfusionMatrixDisplay(confusion_matrix=cm, display_labels=labels)\n",
    "disp.plot(xticks_rotation=45)"
   ]
  },
  {
   "cell_type": "code",
   "execution_count": 19,
   "id": "f8d0b69c",
   "metadata": {},
   "outputs": [
    {
     "name": "stderr",
     "output_type": "stream",
     "text": [
      "Configuration saved in /home/ubuntu/models/AudioSWIN/config.json\n",
      "Model weights saved in /home/ubuntu/models/AudioSWIN/pytorch_model.bin\n"
     ]
    }
   ],
   "source": [
    "model.save_pretrained(\"/home/ubuntu/models/AudioSWIN\")"
   ]
  },
  {
   "cell_type": "code",
   "execution_count": null,
   "id": "10335fd1",
   "metadata": {},
   "outputs": [],
   "source": []
  }
 ],
 "metadata": {
  "kernelspec": {
   "display_name": "Environment (conda_aws_neuron_pytorch_p36)",
   "language": "python",
   "name": "conda_aws_neuron_pytorch_p36"
  },
  "language_info": {
   "codemirror_mode": {
    "name": "ipython",
    "version": 3
   },
   "file_extension": ".py",
   "mimetype": "text/x-python",
   "name": "python",
   "nbconvert_exporter": "python",
   "pygments_lexer": "ipython3",
   "version": "3.6.13"
  }
 },
 "nbformat": 4,
 "nbformat_minor": 5
}
